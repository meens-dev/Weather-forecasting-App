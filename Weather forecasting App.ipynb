{
 "cells": [
  {
   "cell_type": "code",
   "execution_count": 1,
   "id": "999d95a4-d4e1-4b87-9206-97c31058a006",
   "metadata": {},
   "outputs": [
    {
     "name": "stdout",
     "output_type": "stream",
     "text": [
      "Requirement already satisfied: requests in /opt/anaconda3/lib/python3.10/site-packages (2.32.3)\n",
      "Requirement already satisfied: charset-normalizer<4,>=2 in /opt/anaconda3/lib/python3.10/site-packages (from requests) (2.0.4)\n",
      "Requirement already satisfied: idna<4,>=2.5 in /opt/anaconda3/lib/python3.10/site-packages (from requests) (3.7)\n",
      "Requirement already satisfied: urllib3<3,>=1.21.1 in /opt/anaconda3/lib/python3.10/site-packages (from requests) (2.2.2)\n",
      "Requirement already satisfied: certifi>=2017.4.17 in /opt/anaconda3/lib/python3.10/site-packages (from requests) (2024.12.14)\n",
      "Note: you may need to restart the kernel to use updated packages.\n"
     ]
    }
   ],
   "source": [
    "pip install requests"
   ]
  },
  {
   "cell_type": "code",
   "execution_count": 23,
   "id": "4fe4ab53-8413-45df-bfd8-b69bcf087daa",
   "metadata": {},
   "outputs": [
    {
     "name": "stdin",
     "output_type": "stream",
     "text": [
      "Enter city name agra\n"
     ]
    },
    {
     "name": "stdout",
     "output_type": "stream",
     "text": [
      "\n",
      "🌤 Weather Forecast:\n",
      "City: Agra\n",
      "Country: India\n",
      "Temperature (°C): 26.1\n",
      "Humidity (%): 26\n",
      "Weather: Clear\n",
      "Wind Speed (km/h): 10.4\n"
     ]
    }
   ],
   "source": [
    "import requests\n",
    "\n",
    "API_KEY = \"1dcb0c0d9b9b44eba82124046250303\"\n",
    "BASE_URL = \"http://api.weatherapi.com/v1/current.json\"\n",
    "\n",
    "def get_weather(city):\n",
    "    params = {\n",
    "        \"key\": API_KEY,\n",
    "        \"q\": city,\n",
    "        \"aqi\": \"no\"\n",
    "    }\n",
    "\n",
    "    response = requests.get(BASE_URL, params = params)\n",
    "\n",
    "    if response.status_code == 200:\n",
    "        data = response.json()\n",
    "        weather = {\n",
    "            \"City\": data[\"location\"][\"name\"],\n",
    "            \"Country\": data[\"location\"][\"country\"],\n",
    "            \"Temperature (°C)\": data[\"current\"][\"temp_c\"],\n",
    "            \"Humidity (%)\": data[\"current\"][\"humidity\"],\n",
    "            \"Weather\": data[\"current\"][\"condition\"][\"text\"],\n",
    "            \"Wind Speed (km/h)\": data[\"current\"][\"wind_kph\"]\n",
    "        }\n",
    "\n",
    "        return weather\n",
    "    else: \n",
    "        return {\"Error\": \"City not found. Please enter a valid city name.\"}\n",
    "\n",
    "if __name__ == \"__main__\":\n",
    "    city = input(\"Enter city name\")\n",
    "    weather_info = get_weather(city)\n",
    "\n",
    "    if \"Error\" in weather_info:\n",
    "        print(weather_info[\"Error\"])\n",
    "    else:\n",
    "        print(\"\\n🌤 Weather Forecast:\")\n",
    "        for key, value in weather_info.items():\n",
    "            print(f\"{key}: {value}\")"
   ]
  }
 ],
 "metadata": {
  "kernelspec": {
   "display_name": "Python 3 (ipykernel)",
   "language": "python",
   "name": "python3"
  },
  "language_info": {
   "codemirror_mode": {
    "name": "ipython",
    "version": 3
   },
   "file_extension": ".py",
   "mimetype": "text/x-python",
   "name": "python",
   "nbconvert_exporter": "python",
   "pygments_lexer": "ipython3",
   "version": "3.10.14"
  }
 },
 "nbformat": 4,
 "nbformat_minor": 5
}
